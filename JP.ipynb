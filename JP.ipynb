{
 "cells": [
  {
   "cell_type": "code",
   "execution_count": null,
   "metadata": {},
   "outputs": [
    {
     "ename": "",
     "evalue": "",
     "output_type": "error",
     "traceback": [
      "\u001b[1;31mRunning cells with '/usr/local/bin/python3' requires the ipykernel package.\n",
      "\u001b[1;31mRun the following command to install 'ipykernel' into the Python environment. \n",
      "\u001b[1;31mCommand: '/usr/local/bin/python3 -m pip install ipykernel -U --user --force-reinstall'"
     ]
    }
   ],
   "source": [
    "# Import necessary libraries\n",
    "import pandas as pd\n",
    "import numpy as np\n",
    "import plotly.express as px\n",
    "import plotly.graph_objects as go\n",
    "from dash import Dash, dcc, html, Input, Output"
   ]
  },
  {
   "cell_type": "code",
   "execution_count": null,
   "metadata": {},
   "outputs": [],
   "source": [
    "# Load the dataset\n",
    "file_path = \"Goldman Sachs Stock Price History (02.05.2024-29.11.2024).csv\"\n",
    "df = pd.read_csv(file_path)"
   ]
  },
  {
   "cell_type": "code",
   "execution_count": null,
   "metadata": {},
   "outputs": [],
   "source": [
    "# Data Cleaning\n",
    "# Convert 'Date' column to datetime\n",
    "df['Date'] = pd.to_datetime(df['Date'])"
   ]
  },
  {
   "cell_type": "code",
   "execution_count": null,
   "metadata": {},
   "outputs": [],
   "source": [
    "# Handle missing values (if any)\n",
    "df.fillna(method='ffill', inplace=True)  # Forward fill missing values"
   ]
  },
  {
   "cell_type": "code",
   "execution_count": null,
   "metadata": {},
   "outputs": [],
   "source": [
    "\n",
    "# Convert 'Vol.' to numeric (remove 'K' and convert to thousands)\n",
    "df['Vol.'] = df['Vol.'].str.replace('K', '').astype(float) * 1000\n",
    "\n",
    "# Convert 'Change %' to numeric (remove '%' and convert to percentage)\n",
    "df['Change %'] = df['Change %'].str.replace('%', '').astype(float) / 100\n",
    "\n",
    "# Display the cleaned dataset\n",
    "print(df.head())"
   ]
  },
  {
   "cell_type": "code",
   "execution_count": null,
   "metadata": {},
   "outputs": [],
   "source": [
    "# Data Visualization\n",
    "# Plot 1: Line chart of stock prices over time\n",
    "fig1 = px.line(df, x='Date', y='Price', title='Goldman Sachs Stock Price Over Time')\n",
    "fig1.show()"
   ]
  },
  {
   "cell_type": "code",
   "execution_count": null,
   "metadata": {},
   "outputs": [],
   "source": [
    "\n",
    "# Plot 2: Candlestick chart for stock prices\n",
    "fig2 = go.Figure(data=[go.Candlestick(\n",
    "    x=df['Date'],\n",
    "    open=df['Open'],\n",
    "    high=df['High'],\n",
    "    low=df['Low'],\n",
    "    close=df['Price']\n",
    ")])\n",
    "fig2.update_layout(title='Goldman Sachs Candlestick Chart', xaxis_title='Date', yaxis_title='Price')\n",
    "fig2.show()\n",
    "\n",
    "# Plot 3: Volume traded over time\n",
    "fig3 = px.bar(df, x='Date', y='Vol.', title='Volume Traded Over Time')\n",
    "fig3.show()\n",
    "\n",
    "# Plot 4: Change % distribution\n",
    "fig4 = px.histogram(df, x='Change %', title='Distribution of Daily Price Change %')\n",
    "fig4.show()\n",
    "\n",
    "# Interactive Dashboard using Dash\n",
    "app = Dash(__name__)\n",
    "\n",
    "app.layout = html.Div([\n",
    "    html.H1(\"Goldman Sachs Stock Price Analysis Dashboard\"),\n",
    "    \n",
    "    dcc.Graph(id='price-over-time', figure=fig1),\n",
    "    \n",
    "    dcc.Graph(id='candlestick-chart', figure=fig2),\n",
    "    \n",
    "    dcc.Graph(id='volume-chart', figure=fig3),\n",
    "    \n",
    "    dcc.Graph(id='change-distribution', figure=fig4),\n",
    "    \n",
    "    html.Label(\"Select Date Range:\"),\n",
    "    dcc.DatePickerRange(\n",
    "        id='date-range-picker',\n",
    "        start_date=df['Date'].min(),\n",
    "        end_date=df['Date'].max(),\n",
    "        display_format='YYYY-MM-DD'\n",
    "    )\n",
    "])\n",
    "\n",
    "# Callback to update graphs based on date range\n",
    "@app.callback(\n",
    "    [Output('price-over-time', 'figure'),\n",
    "     Output('candlestick-chart', 'figure'),\n",
    "     Output('volume-chart', 'figure'),\n",
    "     Output('change-distribution', 'figure')],\n",
    "    [Input('date-range-picker', 'start_date'),\n",
    "     Input('date-range-picker', 'end_date')]\n",
    ")\n",
    "def update_graphs(start_date, end_date):\n",
    "    filtered_df = df[(df['Date'] >= start_date) & (df['Date'] <= end_date)]\n",
    "    \n",
    "    updated_fig1 = px.line(filtered_df, x='Date', y='Price', title='Goldman Sachs Stock Price Over Time')\n",
    "    \n",
    "    updated_fig2 = go.Figure(data=[go.Candlestick(\n",
    "        x=filtered_df['Date'],\n",
    "        open=filtered_df['Open'],\n",
    "        high=filtered_df['High'],\n",
    "        low=filtered_df['Low'],\n",
    "        close=filtered_df['Price']\n",
    "    )])\n",
    "    updated_fig2.update_layout(title='Goldman Sachs Candlestick Chart', xaxis_title='Date', yaxis_title='Price')\n",
    "    \n",
    "    updated_fig3 = px.bar(filtered_df, x='Date', y='Vol.', title='Volume Traded Over Time')\n",
    "    \n",
    "    updated_fig4 = px.histogram(filtered_df, x='Change %', title='Distribution of Daily Price Change %')\n",
    "    \n",
    "    return updated_fig1, updated_fig2, updated_fig3, updated_fig4\n",
    "\n",
    "# Run the dashboard\n",
    "if __name__ == '__main__':\n",
    "    app.run_server(debug=True)"
   ]
  }
 ],
 "metadata": {
  "kernelspec": {
   "display_name": "Python 3",
   "language": "python",
   "name": "python3"
  },
  "language_info": {
   "name": "python",
   "version": "3.13.1"
  },
  "orig_nbformat": 4
 },
 "nbformat": 4,
 "nbformat_minor": 2
}
